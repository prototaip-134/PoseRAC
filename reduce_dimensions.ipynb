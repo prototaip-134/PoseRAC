{
 "cells": [
  {
   "cell_type": "code",
   "execution_count": 2,
   "metadata": {},
   "outputs": [],
   "source": [
    "import sys\n",
    "import os\n",
    "import numpy as np\n",
    "import pandas as pd\n",
    "import random\n",
    "from tqdm.notebook import tqdm"
   ]
  },
  {
   "cell_type": "code",
   "execution_count": 3,
   "metadata": {},
   "outputs": [],
   "source": [
    "# System alterations\n",
    "\n",
    "# Set the print options to avoid truncation\n",
    "np.set_printoptions(threshold=sys.maxsize) # Default threshold is 1000"
   ]
  },
  {
   "cell_type": "code",
   "execution_count": 4,
   "metadata": {},
   "outputs": [],
   "source": [
    "def load_files(directory):\n",
    "    \"\"\"\n",
    "    Load each .npy file in the specified directory to display all data content\n",
    "\n",
    "    Parameters:\n",
    "    - directoryr: str, the path to the directory containing .npy files.\n",
    "    \"\"\"\n",
    "    file_data = {}\n",
    "    npy_files = [f for f in os.listdir(directory) if f.endswith(\".npy\")]\n",
    "\n",
    "    # Get data from all .npy files in directory\n",
    "    for filename in tqdm(npy_files, desc=\"Loading .npy files\", unit=\"file\"):\n",
    "        file_path = os.path.join(directory, filename)\n",
    "        data = np.load(file_path)\n",
    "        file_data[filename] = data\n",
    "    \n",
    "    return file_data"
   ]
  },
  {
   "cell_type": "code",
   "execution_count": 7,
   "metadata": {},
   "outputs": [],
   "source": [
    "def alter_file_data(directory, coord_index, value=0):\n",
    "    \"\"\"\n",
    "    Modify a specific coordinate (x, y, or z) for all landmarks in every frame\n",
    "    of each .npy file in the specified directory.\n",
    "\n",
    "    Parameters:\n",
    "    - directory: str, the path to the directory containing .npy files.\n",
    "    - coord_index: int, the index of the coordinate to modify (0 for x, 1 for y, 2 for z).\n",
    "    - new_value: float, the new value to set for the specified coordinate.\n",
    "    \"\"\"\n",
    "    npy_files = [f for f in os.listdir(directory) if f.endswith(\".npy\")]\n",
    "    \n",
    "    for filename in tqdm(npy_files, desc=\"Processing .npy files\", unit=\"file\"):\n",
    "        file_path = os.path.join(directory, filename)\n",
    "        data = np.load(file_path)\n",
    "        num_frames = data.shape[0]\n",
    "        num_landmarks = data.shape[1] // 3\n",
    "        \n",
    "        # Reshape the data to (num_frames, num_landmarks, 3), alter coord value and save to file\n",
    "        reshaped_data = data.reshape(num_frames, num_landmarks, 3)\n",
    "        reshaped_data[:, :, coord_index] = value\n",
    "        flattened_data = reshaped_data.reshape(num_frames, num_landmarks * 3)\n",
    "        np.save(file_path, flattened_data)"
   ]
  },
  {
   "cell_type": "code",
   "execution_count": 5,
   "metadata": {},
   "outputs": [],
   "source": [
    "file_path = os.path.join(os.getcwd(), \"RepCount_pose\", \"test_poses\")"
   ]
  },
  {
   "cell_type": "code",
   "execution_count": 8,
   "metadata": {},
   "outputs": [
    {
     "data": {
      "application/vnd.jupyter.widget-view+json": {
       "model_id": "752bff1f847a45ca88ffad81d1ac12f2",
       "version_major": 2,
       "version_minor": 0
      },
      "text/plain": [
       "Processing .npy files:   0%|          | 0/152 [00:00<?, ?file/s]"
      ]
     },
     "metadata": {},
     "output_type": "display_data"
    }
   ],
   "source": [
    "# Alter z-coords to 0 after running pre_test.py\n",
    "alter_file_data(file_path, 2)"
   ]
  },
  {
   "cell_type": "code",
   "execution_count": 8,
   "metadata": {},
   "outputs": [
    {
     "data": {
      "application/vnd.jupyter.widget-view+json": {
       "model_id": "b99bbe4e7215442c89996e301eba9455",
       "version_major": 2,
       "version_minor": 0
      },
      "text/plain": [
       "Loading .npy files:   0%|          | 0/152 [00:00<?, ?file/s]"
      ]
     },
     "metadata": {},
     "output_type": "display_data"
    },
    {
     "name": "stdout",
     "output_type": "stream",
     "text": [
      "File stu3_55.npy (# Frames, # Data Points): 1798 99\n",
      "[4.4449052e-01 2.8024031e-02 0.0000000e+00 4.7519279e-01 2.4085995e-03\n",
      " 2.5590949e-02 4.9718547e-01 7.8226050e-04 2.5432494e-02 5.1741338e-01\n",
      " 0.0000000e+00 2.5253896e-02 4.2085159e-01 8.0949655e-03 4.0164515e-02\n",
      " 4.0649608e-01 9.9856099e-03 4.0066749e-02 3.9414367e-01 1.2028595e-02\n",
      " 3.9913852e-02 5.5753124e-01 1.0534803e-02 2.3146173e-01 3.9958805e-01\n",
      " 2.4915474e-02 3.0042705e-01 4.9761349e-01 4.9078248e-02 8.1693850e-02\n",
      " 4.3182510e-01 5.4022931e-02 1.0158558e-01 8.0682248e-01 1.3424429e-01\n",
      " 3.1413332e-01 3.1098711e-01 1.7465273e-01 5.6215149e-01 9.4204742e-01\n",
      " 2.9848847e-01 3.0530864e-01 1.9517292e-01 3.2950309e-01 6.9279850e-01\n",
      " 9.7758818e-01 4.4486299e-01 1.3759148e-01 6.0376309e-02 4.7491628e-01\n",
      " 4.9398682e-01 1.0000000e+00 4.9383995e-01 7.9123974e-02 0.0000000e+00\n",
      " 5.1664615e-01 4.4740519e-01 9.5833135e-01 4.9920106e-01 2.5912110e-02\n",
      " 1.9573728e-02 5.1875252e-01 3.5795230e-01 9.4052148e-01 4.8201698e-01\n",
      " 1.1654943e-01 4.6729505e-02 5.0627100e-01 4.5073190e-01 8.4614009e-01\n",
      " 4.5179838e-01 7.1188152e-01 5.7669801e-01 4.6049047e-01 8.7033761e-01\n",
      " 8.6494762e-01 6.7784876e-01 5.7175994e-01 5.1350021e-01 6.1937356e-01\n",
      " 4.2891294e-01 8.9252752e-01 9.0090525e-01 9.7835779e-01 6.7375660e-01\n",
      " 8.0847830e-01 9.0551114e-01 9.0044099e-01 9.2367190e-01 1.0000000e+00\n",
      " 7.3880512e-01 8.2978153e-01 9.4133449e-01 8.5509330e-01 1.0000000e+00\n",
      " 7.0851779e-01 5.9137958e-01 8.7699342e-01 7.0444047e-01]\n"
     ]
    }
   ],
   "source": [
    "# Displays the data showing altered z-coords of a random file\n",
    "data = load_files(file_path)\n",
    "key = random.choice(list(data.keys()))\n",
    "print(f\"File {key} (# Frames, # Data Points):\", len(data.get(key)), len(data.get(key)[0]))\n",
    "print(data.get(key)[0])"
   ]
  },
  {
   "cell_type": "code",
   "execution_count": 19,
   "metadata": {},
   "outputs": [],
   "source": [
    "def load_csv(csv_file_path):\n",
    "    df = pd.read_csv(csv_file_path, header=None)\n",
    "    df = df.drop(columns=[1])\n",
    "    pose_data_dict = df.set_index(0).T.to_dict('list')\n",
    "    return pose_data_dict"
   ]
  },
  {
   "cell_type": "code",
   "execution_count": 21,
   "metadata": {},
   "outputs": [],
   "source": [
    "def alter_csv_data(csv_file_path, coord_index, value=0):\n",
    "    df = pd.read_csv(csv_file_path, header=None)\n",
    "    filename = df[0]\n",
    "    action_type = df[1]\n",
    "    datapoints = df.iloc[:, 2:]\n",
    "\n",
    "    coord_indices = range(coord_index, datapoints.shape[1], 3)\n",
    "    datapoints.iloc[:, coord_indices] = value\n",
    "    \n",
    "    updated_df = pd.concat([filename, action_type, datapoints], axis=1)\n",
    "    updated_df.to_csv(csv_file_path, header=False, index=False)"
   ]
  },
  {
   "cell_type": "code",
   "execution_count": 22,
   "metadata": {},
   "outputs": [],
   "source": [
    "csv_file_path = os.path.join(os.getcwd(), \"RepCount_pose\", \"annotation_pose\", \"train.csv\")"
   ]
  },
  {
   "cell_type": "code",
   "execution_count": 23,
   "metadata": {},
   "outputs": [],
   "source": [
    "# Alter z-coords to 0 after running pre_train.py\n",
    "alter_csv_data(csv_file_path, 2)"
   ]
  },
  {
   "cell_type": "code",
   "execution_count": 24,
   "metadata": {},
   "outputs": [
    {
     "name": "stdout",
     "output_type": "stream",
     "text": [
      "File: train/pull_up/salient1/stu5_37.mp4/1.jpg\n",
      "Landmarks: [315.55087, 120.74478, 0.0, 317.59793, 120.597115, 0.0, 318.86615, 121.041466, 0.0, 320.35458, 121.55323, 0.0, 314.8894, 120.69339, 0.0, 314.12552, 121.091415, 0.0, 313.43884, 121.52831, 0.0, 323.80914, 125.758415, 0.0, 312.34998, 125.9471, 0.0, 317.4511, 124.28728, 0.0, 313.95218, 124.23736, 0.0, 334.92587, 142.10849, 0.0, 295.2929, 143.14166, 0.0, 343.15036, 113.59868, 0.0, 280.36508, 117.206894, 0.0, 346.23145, 77.75645, 0.0, 279.87814, 83.08637, 0.0, 347.6617, 72.584946, 0.0, 276.44717, 76.90932, 0.0, 344.7497, 72.26458, 0.0, 280.0316, 76.48875, 0.0, 343.19516, 74.70981, 0.0, 282.04932, 78.923805, 0.0, 319.08826, 221.32169, 0.0, 297.1822, 218.78343, 0.0, 310.6101, 269.65744, 0.0, 294.94427, 268.13022, 0.0, 303.7521, 319.37097, 0.0, 290.39435, 314.57562, 0.0, 305.12143, 324.70316, 0.0, 294.31647, 319.25433, 0.0, 292.2772, 339.9864, 0.0, 281.58868, 336.76614, 0.0]\n"
     ]
    }
   ],
   "source": [
    "# Displays the data showing altered z-coords of a random .csv file entry\n",
    "pose_data_dict = load_csv(csv_file_path)\n",
    "for file_path, landmarks in pose_data_dict.items():\n",
    "    print(f\"File: {file_path}\")\n",
    "    print(f\"Landmarks: {landmarks}\")\n",
    "    break"
   ]
  }
 ],
 "metadata": {
  "kernelspec": {
   "display_name": "Python (poserac)",
   "language": "python",
   "name": "poserac"
  },
  "language_info": {
   "codemirror_mode": {
    "name": "ipython",
    "version": 3
   },
   "file_extension": ".py",
   "mimetype": "text/x-python",
   "name": "python",
   "nbconvert_exporter": "python",
   "pygments_lexer": "ipython3",
   "version": "3.8.19"
  }
 },
 "nbformat": 4,
 "nbformat_minor": 4
}
